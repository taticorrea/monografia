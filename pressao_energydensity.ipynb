{
 "cells": [
  {
   "cell_type": "markdown",
   "metadata": {},
   "source": [
    "<h1>Gráfico da Densidade de energia versus Pressão</h1>"
   ]
  },
  {
   "cell_type": "code",
   "execution_count": 1,
   "metadata": {},
   "outputs": [],
   "source": [
    "#Importando módulos\n",
    "import math as mt                         #funções matemáticas nativas do Python\n",
    "import numpy as np                        #módulo tipo 'excel' do python\n",
    "import matplotlib.pyplot as plt           #módulo para plotar gráficos"
   ]
  },
  {
   "cell_type": "code",
   "execution_count": 2,
   "metadata": {},
   "outputs": [
    {
     "name": "stdout",
     "output_type": "stream",
     "text": [
      "1.4596423499903957e+24\n"
     ]
    }
   ],
   "source": [
    "#CGS\n",
    "c = 2.998E+10                                                                       #cm/s\n",
    "me = 9.10938356E-28                                                                 #g\n",
    "hbar = 1.05E-27                                                                     #erg.s\n",
    "e_zero = (me*me*me*me)*(c*c*c*c*c)/(((mt.pi*mt.pi)*(hbar*hbar*hbar)))               #erg/cm³\n",
    "#e_zero = 1.42E+24                                                                  #erg/cm³\n",
    "\n",
    "print(e_zero)"
   ]
  },
  {
   "cell_type": "code",
   "execution_count": null,
   "metadata": {},
   "outputs": [],
   "source": [
    "#SI\n",
    "c = 2.998E+8                                                                #m/s\n",
    "me = 9.10938356E-31                                                         #kg\n",
    "hbar = 1.05E-34                                                             #J.s\n",
    "e_zero = (me*me*me*me)*(c*c*c*c*c)/(((mt.pi**2)*(10**-9)*(hbar**3)))        #J/Km³\n",
    "#e_zero = 1.42E+24*(10**-7)/(10**-15)                                       #J/km³\n",
    "\n",
    "print(e_zero)"
   ]
  },
  {
   "cell_type": "code",
   "execution_count": 3,
   "metadata": {},
   "outputs": [
    {
     "name": "stdout",
     "output_type": "stream",
     "text": [
      "kf: \n",
      " [0.00000000e+00 5.51715796e-19 1.10343159e-18 1.65514739e-18\n",
      " 2.20686318e-18 2.75857898e-18 3.31029478e-18 3.86201057e-18\n",
      " 4.41372637e-18 4.96544217e-18 5.51715796e-18 6.06887376e-18\n",
      " 6.62058955e-18 7.17230535e-18 7.72402115e-18 8.27573694e-18\n",
      " 8.82745274e-18 9.37916854e-18 9.93088433e-18 1.04826001e-17\n",
      " 1.10343159e-17 1.15860317e-17 1.21377475e-17 1.26894633e-17\n",
      " 1.32411791e-17 1.37928949e-17 1.43446107e-17 1.48963265e-17\n",
      " 1.54480423e-17 1.59997581e-17 1.65514739e-17 1.71031897e-17\n",
      " 1.76549055e-17 1.82066213e-17 1.87583371e-17 1.93100529e-17\n",
      " 1.98617687e-17 2.04134845e-17 2.09652003e-17 2.15169161e-17\n",
      " 2.20686318e-17 2.26203476e-17 2.31720634e-17 2.37237792e-17\n",
      " 2.42754950e-17 2.48272108e-17 2.53789266e-17 2.59306424e-17\n",
      " 2.64823582e-17 2.70340740e-17 2.75857898e-17 2.81375056e-17\n",
      " 2.86892214e-17 2.92409372e-17 2.97926530e-17 3.03443688e-17\n",
      " 3.08960846e-17 3.14478004e-17 3.19995162e-17 3.25512320e-17\n",
      " 3.31029478e-17 3.36546636e-17 3.42063794e-17 3.47580952e-17\n",
      " 3.53098110e-17 3.58615268e-17 3.64132426e-17 3.69649583e-17\n",
      " 3.75166741e-17 3.80683899e-17 3.86201057e-17 3.91718215e-17\n",
      " 3.97235373e-17 4.02752531e-17 4.08269689e-17 4.13786847e-17\n",
      " 4.19304005e-17 4.24821163e-17 4.30338321e-17 4.35855479e-17\n",
      " 4.41372637e-17 4.46889795e-17 4.52406953e-17 4.57924111e-17\n",
      " 4.63441269e-17 4.68958427e-17 4.74475585e-17 4.79992743e-17\n",
      " 4.85509901e-17 4.91027059e-17 4.96544217e-17 5.02061375e-17\n",
      " 5.07578533e-17 5.13095690e-17 5.18612848e-17 5.24130006e-17\n",
      " 5.29647164e-17 5.35164322e-17 5.40681480e-17 5.46198638e-17]\n",
      "x: \n",
      " [0.         0.02020202 0.04040404 0.06060606 0.08080808 0.1010101\n",
      " 0.12121212 0.14141414 0.16161616 0.18181818 0.2020202  0.22222222\n",
      " 0.24242424 0.26262626 0.28282828 0.3030303  0.32323232 0.34343434\n",
      " 0.36363636 0.38383838 0.4040404  0.42424242 0.44444444 0.46464646\n",
      " 0.48484848 0.50505051 0.52525253 0.54545455 0.56565657 0.58585859\n",
      " 0.60606061 0.62626263 0.64646465 0.66666667 0.68686869 0.70707071\n",
      " 0.72727273 0.74747475 0.76767677 0.78787879 0.80808081 0.82828283\n",
      " 0.84848485 0.86868687 0.88888889 0.90909091 0.92929293 0.94949495\n",
      " 0.96969697 0.98989899 1.01010101 1.03030303 1.05050505 1.07070707\n",
      " 1.09090909 1.11111111 1.13131313 1.15151515 1.17171717 1.19191919\n",
      " 1.21212121 1.23232323 1.25252525 1.27272727 1.29292929 1.31313131\n",
      " 1.33333333 1.35353535 1.37373737 1.39393939 1.41414141 1.43434343\n",
      " 1.45454545 1.47474747 1.49494949 1.51515152 1.53535354 1.55555556\n",
      " 1.57575758 1.5959596  1.61616162 1.63636364 1.65656566 1.67676768\n",
      " 1.6969697  1.71717172 1.73737374 1.75757576 1.77777778 1.7979798\n",
      " 1.81818182 1.83838384 1.85858586 1.87878788 1.8989899  1.91919192\n",
      " 1.93939394 1.95959596 1.97979798 2.        ]\n"
     ]
    }
   ],
   "source": [
    "'''\n",
    "Calculando os intervalos de kf e x(kf)\n",
    "\n",
    "k e[0,2mec]\n",
    "x = k/mec\n",
    "x e[0,2]\n",
    "'''\n",
    "e = []                                                      #Listas vazias\n",
    "P = []\n",
    "n = 100                                                     #Número de pontos\n",
    "\n",
    "kf = np.linspace(0,2*me*c,n)                                #Gerando os valores de k\n",
    "x = np.empty(n)                                             #Gerando os valores de x\n",
    "\n",
    "#x = k/mec\n",
    "for i in range(n):\n",
    "    x[i] = kf[i]/(me*c)\n",
    "    \n",
    "print('kf: \\n',kf)\n",
    "print('x: \\n',x)"
   ]
  },
  {
   "cell_type": "code",
   "execution_count": 4,
   "metadata": {},
   "outputs": [
    {
     "name": "stdout",
     "output_type": "stream",
     "text": [
      "kf e[0,5.461986382576e-17]\n",
      "x e[0,2]\n"
     ]
    },
    {
     "ename": "NameError",
     "evalue": "name 'pd' is not defined",
     "output_type": "error",
     "traceback": [
      "\u001b[0;31m---------------------------------------------------------------------------\u001b[0m",
      "\u001b[0;31mNameError\u001b[0m                                 Traceback (most recent call last)",
      "\u001b[0;32m<ipython-input-4-eb6b164835cc>\u001b[0m in \u001b[0;36m<module>\u001b[0;34m\u001b[0m\n\u001b[1;32m     19\u001b[0m \u001b[0;34m\u001b[0m\u001b[0m\n\u001b[1;32m     20\u001b[0m \u001b[0me_array\u001b[0m \u001b[0;34m=\u001b[0m \u001b[0mnp\u001b[0m\u001b[0;34m.\u001b[0m\u001b[0marray\u001b[0m\u001b[0;34m(\u001b[0m\u001b[0me\u001b[0m\u001b[0;34m)\u001b[0m                                      \u001b[0;31m#Convertendo lista em df pandas\u001b[0m\u001b[0;34m\u001b[0m\u001b[0;34m\u001b[0m\u001b[0m\n\u001b[0;32m---> 21\u001b[0;31m \u001b[0mdf_e\u001b[0m \u001b[0;34m=\u001b[0m \u001b[0mpd\u001b[0m\u001b[0;34m.\u001b[0m\u001b[0mDataFrame\u001b[0m\u001b[0;34m(\u001b[0m\u001b[0me_array\u001b[0m\u001b[0;34m)\u001b[0m                               \u001b[0;31m#Convertendo df pandas em np.array\u001b[0m\u001b[0;34m\u001b[0m\u001b[0;34m\u001b[0m\u001b[0m\n\u001b[0m\u001b[1;32m     22\u001b[0m \u001b[0mdf_e\u001b[0m\u001b[0;34m.\u001b[0m\u001b[0mto_csv\u001b[0m\u001b[0;34m(\u001b[0m\u001b[0;34m'e.csv'\u001b[0m\u001b[0;34m,\u001b[0m \u001b[0mindex\u001b[0m \u001b[0;34m=\u001b[0m \u001b[0;32mFalse\u001b[0m\u001b[0;34m)\u001b[0m                        \u001b[0;31m#Convertento df pandas em .csv\u001b[0m\u001b[0;34m\u001b[0m\u001b[0;34m\u001b[0m\u001b[0m\n\u001b[1;32m     23\u001b[0m \u001b[0;34m\u001b[0m\u001b[0m\n",
      "\u001b[0;31mNameError\u001b[0m: name 'pd' is not defined"
     ]
    }
   ],
   "source": [
    "'''\n",
    "Calculando os pontos e(x(kf)) x P(x(kf))\n",
    "\n",
    "en = (3*e_zero)*((2*(kn**3) + kn )*((1 + kn**2))**(1/2) - np.arcsinh(kn))\n",
    "Pn = (e_zero/24)*((2*(kn**3) - 3*kn)*((1 + kn**2)**(1/2)) + 3*np.arcsinh(kn))\n",
    "'''\n",
    "\n",
    "for i in range(n):\n",
    "    #Calculando os pontos para cada valor de k\n",
    "    e.append((e_zero*3)*((2*x[i]*x[i]*x[i] + x[i])*(np.sqrt(1 + x[i]*x[i])) - np.arcsinh(x[i])))\n",
    "    P.append((e_zero/24)*((2*x[i]*x[i]*x[i] - 3*x[i])*(np.sqrt(1 + x[i]*x[i])) + 3*np.arcsinh(x[i])))\n",
    "\n",
    "print('kf e[0,{}]'.format(2*me*c))\n",
    "print('x e[0,{}]'.format(2))\n",
    "#print('\\nValores de k\\n',k)\n",
    "#print('\\nValores de x\\n',x)    \n",
    "#print('\\nValores da densidade de energia\\n',e)\n",
    "#print('\\nValores da pressão\\n',P) \n",
    "    \n",
    "e_array = np.array(e)                                      #Convertendo lista em df pandas\n",
    "df_e = pd.DataFrame(e_array)                               #Convertendo df pandas em np.array\n",
    "df_e.to_csv('e.csv', index = False)                        #Convertento df pandas em .csv\n",
    "\n",
    "P_array = np.array(P)                                 \n",
    "df_P = pd.DataFrame(P_array)                          \n",
    "df_P.to_csv('P1.csv', index = False)                  \n",
    "\n",
    "eP = pd.concat([df_e,df_P], axis=1)                        #Concatenando os dois arrays\n",
    "eP.to_csv('eP.csv', index=False)\n",
    "\n",
    "#Plotando e personalizando o gráfico\n",
    "plt.plot(e, P, color = 'red')\n",
    "plt.title(r'P x $\\epsilon$')\n",
    "plt.xlabel('Densidade de energia (erg/cm³)')\n",
    "plt.ylabel('Pressao (dyn/cm²)')\n",
    "plt.savefig('pxe.png')\n",
    "plt.show()"
   ]
  },
  {
   "cell_type": "code",
   "execution_count": null,
   "metadata": {},
   "outputs": [],
   "source": [
    "# SI -> kf = 5.461986382576e-22  (kg.m/s)        -----------     1e-22*1e-3*1e-2 = 1e-5\n",
    "\n",
    "# CGS -> kf = 5.461986382576e-17 (g.cm/s)        -----------     \n"
   ]
  }
 ],
 "metadata": {
  "kernelspec": {
   "display_name": "Python 3",
   "language": "python",
   "name": "python3"
  },
  "language_info": {
   "codemirror_mode": {
    "name": "ipython",
    "version": 3
   },
   "file_extension": ".py",
   "mimetype": "text/x-python",
   "name": "python",
   "nbconvert_exporter": "python",
   "pygments_lexer": "ipython3",
   "version": "3.7.3"
  }
 },
 "nbformat": 4,
 "nbformat_minor": 2
}

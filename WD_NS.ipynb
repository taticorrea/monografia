{
 "cells": [
  {
   "cell_type": "markdown",
   "metadata": {},
   "source": [
    "<h1>Runge Kutta 4º order for ODE system</h1> "
   ]
  },
  {
   "cell_type": "code",
   "execution_count": null,
   "metadata": {},
   "outputs": [],
   "source": [
    "'''\n",
    "dP/dr = f(r, P(r), M(r))    P(r0) = P0\n",
    "dM/dr = g(r, P(r), M(r))    M(x0) = M0\n",
    "\n",
    "k1 = h*f(rn, Pn, Mn)\n",
    "l1 = h*g(rn, Pn, Mn)\n",
    "\n",
    "k2 = h*f(rn + h/2, Pn + k1/2, Mn + l1/2)\n",
    "l2 = h*g(rn + h/2, Pn + k1/2, Mn + l1/2)\n",
    "\n",
    "\n",
    "k3 = h*f(rn + h/2, Pn + k2/2, Mn + l2/2)\n",
    "l3 = h*g(rn + h/2, Pn + k2/2, Mn + l2/2)\n",
    "\n",
    "k4 = h*f(rn + h, Pn + k3, Mn + l3)\n",
    "l4 = h*g(rn + h, Pn + k3, Mn + l3)\n",
    "\n",
    "k = (1/6) *(k1 + 2k2 + 2k3 + k4)\n",
    "l = (1/6) *(l1 + 2l2 + 2l3 + l4)\n",
    "\n",
    "rn+1 = rn + h\n",
    "Pn+1 = Pn + k\n",
    "Mn+1 = Mn + l"
   ]
  },
  {
   "cell_type": "markdown",
   "metadata": {},
   "source": [
    "<h1>Anã Branca</h1>"
   ]
  },
  {
   "cell_type": "code",
   "execution_count": null,
   "metadata": {
    "scrolled": true
   },
   "outputs": [],
   "source": [
    "'''\n",
    "dP/dr = -(alfa*(P**(1/gama))*M)/(r**2)\n",
    "dM/dr = beta*(r**2)*(P**(1/gama))\n",
    "\n",
    "r(0) = 0.0000001\n",
    "P(0) e [10^-16,10^-14]\n",
    "M(0) = 0\n",
    "\n",
    "'''"
   ]
  },
  {
   "cell_type": "code",
   "execution_count": 3,
   "metadata": {},
   "outputs": [],
   "source": [
    "import pandas as pd\n",
    "import numpy as np\n",
    "import matplotlib.pyplot as plt"
   ]
  },
  {
   "cell_type": "code",
   "execution_count": 4,
   "metadata": {},
   "outputs": [],
   "source": [
    "n = 10000                         #Número de pontos"
   ]
  },
  {
   "cell_type": "markdown",
   "metadata": {},
   "source": [
    "<h1>Caso Relativístico</h1>"
   ]
  },
  {
   "cell_type": "code",
   "execution_count": 5,
   "metadata": {
    "scrolled": true
   },
   "outputs": [],
   "source": [
    "             #Passo de integração\n",
    "#h = 0.4841                       #P[0] = 10E-14\n",
    "#h = 0.86008919                   #P[0] = 10E-15\n",
    "h = 1.508151                      #P[0] = 10E-16\n",
    "\n",
    "               #Constantes\n",
    "alfa = 1.473                      \n",
    "beta = 52.46\n",
    "gama = 4/3 \n"
   ]
  },
  {
   "cell_type": "markdown",
   "metadata": {},
   "source": [
    "<h1>Caso não-Relativístico</h1>"
   ]
  },
  {
   "cell_type": "code",
   "execution_count": null,
   "metadata": {},
   "outputs": [],
   "source": [
    "            #Passo de integração\n",
    "#h =                                 #P[0] = 10E-15\n",
    "h = 1.336139                         #P[0] = 10E-16\n",
    "\n",
    "                #Constantes\n",
    "alfa = 0.05 \n",
    "beta = 0.005924\n",
    "gama = 5/3 \n"
   ]
  },
  {
   "cell_type": "code",
   "execution_count": 24,
   "metadata": {},
   "outputs": [
    {
     "data": {
      "image/png": "[encoded data removed]",
      "text/plain": [
       "<Figure size 432x288 with 1 Axes>"
      ]
     },
     "metadata": {
      "needs_background": "light"
     },
     "output_type": "display_data"
    }
   ],
   "source": [
    "def f(r,P,M):\n",
    "    return -(alfa*(P**(1/gama))*M)/(r**2)\n",
    "\n",
    "def g(r,P,M):\n",
    "    return beta*(r**2)*(P**(1/gama))\n",
    "\n",
    "r = np.empty(n)                   #Arrays vazios para preencher no laço\n",
    "P = np.empty(n)\n",
    "M = np.empty(n)\n",
    "\n",
    "\n",
    "r[0] = 0.00000000000000001        #Condições Iniciais\n",
    "P[0] = 10**(-16)\n",
    "M[0] = 0\n",
    "\n",
    "\n",
    "def rk4():                        #Runge Kutta rotina\n",
    "    for i in range(n-1):\n",
    "\n",
    "        k1 = h*f(r[i], P[i], M[i])\n",
    "        l1 = h*g(r[i], P[i], M[i])\n",
    "\n",
    "        k2 = h*f(r[i] + h/2, P[i] + k1/2, M[i] + l1/2)\n",
    "        l2 = h*g(r[i] + h/2, P[i] + k1/2, M[i] + l1/2)\n",
    "\n",
    "        k3 = h*f(r[i] + h/2, P[i] + k2/2, M[i] + l2/2)\n",
    "        l3 = h*g(r[i] + h/2, P[i] + k2/2, M[i] + l2/2)\n",
    "\n",
    "        k4 = h*f(r[i] + h, P[i] + k3, M[i] + l3)\n",
    "        l4 = h*g(r[i] + h, P[i] + k3, M[i] + l3)\n",
    "\n",
    "        k = (1/6)*(k1 + 2*k2 + 2*k3 + k4)\n",
    "        l = (1/6)*(l1 + 2*l2 + 2*l3 + l4)\n",
    "\n",
    "        r[i+1] = r[i] + h\n",
    "        P[i+1] = P[i] + k\n",
    "        M[i+1] = M[i] + l\n",
    "    \n",
    "    df_r = pd.DataFrame(r)                                            #Convertendo np.array para pandas df\n",
    "    df_r.to_csv('r.csv', index=False)                                 #Convertendo pandas df para .csv\n",
    "    \n",
    "    df_P = pd.DataFrame(P)                                            \n",
    "    df_P.to_csv('P.csv', index=False)\n",
    "    \n",
    "    df_M = pd.DataFrame(M)                                            \n",
    "    df_M.to_csv('M.csv', index=False)\n",
    "    \n",
    "    rM = pd.concat([df_r,df_M], axis=1)\n",
    "    rM.to_csv('rM.csv', index=False)\n",
    "    \n",
    "    rP = pd.concat([df_r,df_P], axis=1)\n",
    "    rP.to_csv('rP.csv', index=False)\n",
    "    \n",
    "    return r,M,P\n",
    "        \n",
    "rk4()\n",
    "\n",
    "\n",
    "plt.plot(r,M)\n",
    "plt.show()"
   ]
  },
  {
   "cell_type": "markdown",
   "metadata": {},
   "source": [
    "<h1>Estrela de Neutrons</h1>"
   ]
  },
  {
   "cell_type": "code",
   "execution_count": null,
   "metadata": {},
   "outputs": [],
   "source": [
    "'''\n",
    "r(0) = 0.0000001\n",
    "P(0) e [10^-16,10^-14]\n",
    "M(0) = 0\n",
    "\n",
    "'''"
   ]
  },
  {
   "cell_type": "markdown",
   "metadata": {},
   "source": [
    "<h1>Caso Relativístico</h1>"
   ]
  },
  {
   "cell_type": "code",
   "execution_count": null,
   "metadata": {},
   "outputs": [],
   "source": []
  },
  {
   "cell_type": "markdown",
   "metadata": {},
   "source": [
    "<h1>Caso não-Relativístico</h1>"
   ]
  },
  {
   "cell_type": "code",
   "execution_count": null,
   "metadata": {},
   "outputs": [],
   "source": []
  },
  {
   "cell_type": "code",
   "execution_count": null,
   "metadata": {},
   "outputs": [],
   "source": [
    "#FALTA DEFINIR AS FUNÇÕES \n",
    "\n",
    "def f(r,P,M):\n",
    "    return \n",
    "\n",
    "def g(r,P,M):\n",
    "    return \n",
    "\n",
    "r = np.empty(n)                   #Arrays vazios para preencher no laço\n",
    "P = np.empty(n)\n",
    "M = np.empty(n)\n",
    "\n",
    "\n",
    "r[0] = 0.00000000000000001        #Condições Iniciais\n",
    "P[0] = 10**(-16)\n",
    "M[0] = 0\n",
    "\n",
    "\n",
    "def rk4():                        #Runge Kutta rotina\n",
    "    for i in range(n-1):\n",
    "\n",
    "        k1 = h*f(r[i], P[i], M[i])\n",
    "        l1 = h*g(r[i], P[i], M[i])\n",
    "\n",
    "        k2 = h*f(r[i] + h/2, P[i] + k1/2, M[i] + l1/2)\n",
    "        l2 = h*g(r[i] + h/2, P[i] + k1/2, M[i] + l1/2)\n",
    "\n",
    "        k3 = h*f(r[i] + h/2, P[i] + k2/2, M[i] + l2/2)\n",
    "        l3 = h*g(r[i] + h/2, P[i] + k2/2, M[i] + l2/2)\n",
    "\n",
    "        k4 = h*f(r[i] + h, P[i] + k3, M[i] + l3)\n",
    "        l4 = h*g(r[i] + h, P[i] + k3, M[i] + l3)\n",
    "\n",
    "        k = (1/6)*(k1 + 2*k2 + 2*k3 + k4)\n",
    "        l = (1/6)*(l1 + 2*l2 + 2*l3 + l4)\n",
    "\n",
    "        r[i+1] = r[i] + h\n",
    "        P[i+1] = P[i] + k\n",
    "        M[i+1] = M[i] + l\n",
    "\n",
    "    df_r = pd.DataFrame(r)                                            #Convertendo np.array para pandas df\n",
    "    df_r.to_csv('r.csv', index=False)                                 #Convertendo pandas df para .csv\n",
    "    \n",
    "    df_P = pd.DataFrame(P)                                            \n",
    "    df_P.to_csv('P.csv', index=False)\n",
    "    \n",
    "    df_M = pd.DataFrame(M)                                            \n",
    "    df_M.to_csv('M.csv', index=False)\n",
    "    \n",
    "    rM = pd.concat([df_r,df_M], axis=1)\n",
    "    rM.to_csv('rM.csv', index=False)\n",
    "    \n",
    "    rP = pd.concat([df_r,df_P], axis=1)\n",
    "    rP.to_csv('rP.csv', index=False)\n",
    "    return r,M,P\n",
    "        \n",
    "rk4()\n",
    "\n",
    "\n",
    "plt.plot(r,M)\n",
    "plt.show()"
   ]
  }
 ],
 "metadata": {
  "kernelspec": {
   "display_name": "Python 3",
   "language": "python",
   "name": "python3"
  },
  "language_info": {
   "codemirror_mode": {
    "name": "ipython",
    "version": 3
   },
   "file_extension": ".py",
   "mimetype": "text/x-python",
   "name": "python",
   "nbconvert_exporter": "python",
   "pygments_lexer": "ipython3",
   "version": "3.7.3"
  }
 },
 "nbformat": 4,
 "nbformat_minor": 2
}
